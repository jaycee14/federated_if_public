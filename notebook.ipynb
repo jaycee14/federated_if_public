{
 "cells": [
  {
   "cell_type": "code",
   "execution_count": null,
   "metadata": {},
   "outputs": [],
   "source": [
    "import pandas as pd\n",
    "from sklearn.preprocessing import LabelEncoder\n",
    "from sklearn.ensemble import IsolationForest\n",
    "from sklearn.metrics import accuracy_score, precision_score, recall_score, f1_score"
   ]
  },
  {
   "cell_type": "code",
   "execution_count": null,
   "metadata": {},
   "outputs": [],
   "source": [
    "df = pd.read_csv('transactions.gz',compression='gzip')"
   ]
  },
  {
   "cell_type": "code",
   "execution_count": null,
   "metadata": {},
   "outputs": [],
   "source": [
    "df.fillna(value={'merchantCountryCode':'UNK','acqCountry':'UNK'},inplace=True)"
   ]
  },
  {
   "cell_type": "code",
   "execution_count": null,
   "metadata": {},
   "outputs": [],
   "source": [
    "#empty and correlated columns\n",
    "df.drop(['Unnamed: 0','merchantCity','merchantState','merchantZip','echoBuffer','posOnPremises','recurringAuthInd',\n",
    "         'enteredCVV','customerId','availableMoney'],axis=1,inplace=True)"
   ]
  },
  {
   "cell_type": "markdown",
   "metadata": {},
   "source": [
    "### Adding Features"
   ]
  },
  {
   "cell_type": "code",
   "execution_count": null,
   "metadata": {},
   "outputs": [],
   "source": [
    "\n",
    "le = LabelEncoder()\n",
    "var = ['merchantName','merchantCountryCode','posEntryMode','posConditionCode','merchantCategoryCode','transactionType','cardPresent','expirationDateKeyInMatch','isFraud']\n",
    "for i in var:\n",
    "    df[i] = le.fit_transform(df[i])\n",
    "\n",
    "df['acqCountry_encode'] = le.fit_transform(df['acqCountry'])"
   ]
  },
  {
   "cell_type": "code",
   "execution_count": null,
   "metadata": {},
   "outputs": [],
   "source": [
    "# converting to datetime format\n",
    "df['transactionDateTime'] = pd.to_datetime(df['transactionDateTime'])\n",
    "df['accountOpenDate'] = pd.to_datetime(df['accountOpenDate'])\n",
    "df['dateOfLastAddressChange'] = pd.to_datetime(df['dateOfLastAddressChange'])"
   ]
  },
  {
   "cell_type": "code",
   "execution_count": null,
   "metadata": {},
   "outputs": [],
   "source": [
    "# extractindg year, month, day, hour, minute and seconds from datetime columns\n",
    "df['transactionDateTime_year'] = df['transactionDateTime'].dt.year\n",
    "df['transactionDateTime_month'] = df['transactionDateTime'].dt.month\n",
    "df['transactionDateTime_day'] = df['transactionDateTime'].dt.day\n",
    "df['transactionDateTime_hour'] = df['transactionDateTime'].dt.hour\n",
    "df['transactionDateTime_minute'] = df['transactionDateTime'].dt.minute\n",
    "df['transactionDateTime_second'] = df['transactionDateTime'].dt.second\n",
    "\n",
    "\n",
    "df['accountOpenDate_year'] = df['accountOpenDate'].dt.year\n",
    "df['accountOpenDate_month'] = df['accountOpenDate'].dt.month\n",
    "df['accountOpenDate_day'] = df['accountOpenDate'].dt.day\n",
    "\n",
    "df['dateOfLastAddressChange_year'] = df['dateOfLastAddressChange'].dt.year\n",
    "df['dateOfLastAddressChange_month'] = df['dateOfLastAddressChange'].dt.month\n",
    "df['dateOfLastAddressChange_day'] = df['dateOfLastAddressChange'].dt.day"
   ]
  },
  {
   "cell_type": "code",
   "execution_count": null,
   "metadata": {},
   "outputs": [],
   "source": [
    "# drop datetime column\n",
    "df.drop('transactionDateTime',axis = 1,inplace = True)\n",
    "df.drop('currentExpDate',axis = 1,inplace = True)\n",
    "df.drop('accountOpenDate',axis = 1,inplace = True)\n",
    "df.drop('dateOfLastAddressChange',axis = 1,inplace = True)"
   ]
  },
  {
   "cell_type": "raw",
   "metadata": {
    "vscode": {
     "languageId": "raw"
    }
   },
   "source": [
    "# save data\n",
    "df.to_pickle('data.pkl')"
   ]
  },
  {
   "cell_type": "markdown",
   "metadata": {},
   "source": [
    "### Running Local Model - Population "
   ]
  },
  {
   "cell_type": "code",
   "execution_count": null,
   "metadata": {},
   "outputs": [],
   "source": [
    "\n",
    "\n",
    "X = df.drop('isFraud',axis = 1)\n",
    "y = df['isFraud']\n",
    "\n",
    "X = X.drop('acqCountry',axis=1)\n",
    "\n",
    "preds = IsolationForest(random_state=42).fit_predict(X)\n",
    "preds_bool = preds==-1\n",
    "y_bool = y.values == 1\n",
    "\n",
    "\n",
    "acc = accuracy_score(y_bool,preds_bool)\n",
    "precision = precision_score(y_bool,preds_bool, average='weighted')\n",
    "recall = recall_score(y_bool,preds_bool, average='weighted')\n",
    "f1 = f1_score(y_bool,preds_bool, average='weighted')\n",
    "\n",
    "print(f'Acc: {acc}, Precision: {precision}, Recall: {recall}, F1: {f1}')\n",
    "\n",
    "print('*'*20)"
   ]
  },
  {
   "cell_type": "markdown",
   "metadata": {},
   "source": [
    "### Running Local Model - Single Client"
   ]
  },
  {
   "cell_type": "code",
   "execution_count": null,
   "metadata": {},
   "outputs": [],
   "source": [
    "\n",
    "client = 380680241\n",
    "print(client)\n",
    "\n",
    "X_client = df.loc[df.accountNumber==client].drop('isFraud',axis = 1).drop('acqCountry',axis=1)\n",
    "y_client = df.loc[df.accountNumber==client]['isFraud']\n",
    "print(X_client.shape[0])\n",
    "\n",
    "preds = IsolationForest(random_state=42).fit_predict(X_client)\n",
    "preds_bool = preds==-1\n",
    "y_bool = y_client.values == 1\n",
    "\n",
    "acc = accuracy_score(y_bool,preds_bool)\n",
    "precision = precision_score(y_bool,preds_bool, average='weighted')\n",
    "recall = recall_score(y_bool,preds_bool, average='weighted')\n",
    "f1 = f1_score(y_bool,preds_bool, average='weighted')\n",
    "\n",
    "print(f'Acc: {acc}, Precision: {precision}, Recall: {recall}, F1: {f1}')\n",
    "\n",
    "print('*'*20)\n",
    "\n",
    "    "
   ]
  }
 ],
 "metadata": {
  "kernelspec": {
   "display_name": "pytorch_py3_11",
   "language": "python",
   "name": "python3"
  },
  "language_info": {
   "codemirror_mode": {
    "name": "ipython",
    "version": 3
   },
   "file_extension": ".py",
   "mimetype": "text/x-python",
   "name": "python",
   "nbconvert_exporter": "python",
   "pygments_lexer": "ipython3",
   "version": "3.11.5"
  }
 },
 "nbformat": 4,
 "nbformat_minor": 2
}
